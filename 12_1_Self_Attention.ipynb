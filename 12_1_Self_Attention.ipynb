{
  "nbformat": 4,
  "nbformat_minor": 0,
  "metadata": {
    "colab": {
      "provenance": []
    },
    "kernelspec": {
      "name": "python3",
      "display_name": "Python 3"
    },
    "language_info": {
      "name": "python"
    }
  },
  "cells": [
    {
      "cell_type": "markdown",
      "metadata": {
        "id": "view-in-github"
      },
      "source": [
        "<a href=\"https://colab.research.google.com/github/udlbook/udlbook/blob/main/Notebooks/Chap12/12_1_Self_Attention.ipynb\" target=\"_parent\"><img src=\"https://colab.research.google.com/assets/colab-badge.svg\" alt=\"Open In Colab\"/></a>"
      ]
    },
    {
      "cell_type": "markdown",
      "source": [
        "# **Notebook 12.1: Self Attention**\n",
        "\n",
        "This notebook builds a self-attention mechanism from scratch, as discussed in section 12.2 of the book.\n",
        "\n",
        "Work through the cells below, running each cell in turn. In various places you will see the words \"TO DO\". Follow the instructions at these places and make predictions about what is going to happen or write code to complete the functions.\n",
        "\n",
        "Contact me at udlbookmail@gmail.com if you find any mistakes or have any suggestions.\n",
        "\n"
      ],
      "metadata": {
        "id": "t9vk9Elugvmi"
      }
    },
    {
      "cell_type": "code",
      "source": [
        "import numpy as np\n",
        "import matplotlib.pyplot as plt"
      ],
      "metadata": {
        "id": "OLComQyvCIJ7"
      },
      "execution_count": null,
      "outputs": []
    },
    {
      "cell_type": "markdown",
      "source": [
        "The self-attention mechanism maps $N$ inputs $\\mathbf{x}_{n}\\in\\mathbb{R}^{D}$ and returns $N$ outputs $\\mathbf{x}'_{n}\\in \\mathbb{R}^{D}$.  \n",
        "\n"
      ],
      "metadata": {
        "id": "9OJkkoNqCVK2"
      }
    },
    {
      "cell_type": "code",
      "source": [
        "# Set seed so we get the same random numbers\n",
        "np.random.seed(3)\n",
        "# Number of inputs\n",
        "N = 3\n",
        "# Number of dimensions of each input\n",
        "D = 4\n",
        "# Create an empty list\n",
        "all_x = []\n",
        "# Create elements x_n and append to list\n",
        "for n in range(N):\n",
        "    all_x.append(np.random.normal(size=(D,1)))\n",
        "# Print out the list\n",
        "print(all_x)"
      ],
      "metadata": {
        "id": "oAygJwLiCSri",
        "colab": {
          "base_uri": "https://localhost:8080/"
        },
        "outputId": "8dbabb1f-44cb-40b3-fbe9-e4f696144b82"
      },
      "execution_count": null,
      "outputs": [
        {
          "output_type": "stream",
          "name": "stdout",
          "text": [
            "[array([[ 1.78862847],\n",
            "       [ 0.43650985],\n",
            "       [ 0.09649747],\n",
            "       [-1.8634927 ]]), array([[-0.2773882 ],\n",
            "       [-0.35475898],\n",
            "       [-0.08274148],\n",
            "       [-0.62700068]]), array([[-0.04381817],\n",
            "       [-0.47721803],\n",
            "       [-1.31386475],\n",
            "       [ 0.88462238]])]\n"
          ]
        }
      ]
    },
    {
      "cell_type": "markdown",
      "source": [
        "We'll also need the weights and biases for the keys, queries, and values (equations 12.2 and 12.4)"
      ],
      "metadata": {
        "id": "W2iHFbtKMaDp"
      }
    },
    {
      "cell_type": "code",
      "source": [
        "\n",
        "# Set seed so we get the same random numbers\n",
        "np.random.seed(0)\n",
        "# Choose random values for the parameters\n",
        "omega_q = np.random.normal(size=(D,D))\n",
        "omega_k = np.random.normal(size=(D,D))\n",
        "omega_v = np.random.normal(size=(D,D))\n",
        "beta_q = np.random.normal(size=(D,1))\n",
        "beta_k = np.random.normal(size=(D,1))\n",
        "beta_v = np.random.normal(size=(D,1))"
      ],
      "metadata": {
        "id": "79TSK7oLMobe"
      },
      "execution_count": null,
      "outputs": []
    },
    {
      "cell_type": "markdown",
      "source": [
        "Now let's compute the queries, keys, and values for each input"
      ],
      "metadata": {
        "id": "VxaKQtP3Ng6R"
      }
    },
    {
      "cell_type": "code",
      "source": [
        "# Make three lists to store queries, keys, and values\n",
        "all_queries = []\n",
        "all_keys = []\n",
        "all_values = []\n",
        "# For every input\n",
        "for x in all_x:\n",
        "    # Compute the keys, queries and values.\n",
        "    query = np.dot(omega_q, x) + beta_q\n",
        "    key = np.dot(omega_k, x) + beta_k\n",
        "    value = np.dot(omega_v, x) + beta_v\n",
        "    all_queries.append(query)\n",
        "    all_keys.append(key)\n",
        "    all_values.append(value)"
      ],
      "metadata": {
        "id": "TwDK2tfdNmw9"
      },
      "execution_count": null,
      "outputs": []
    },
    {
      "cell_type": "markdown",
      "source": [
        "We'll need a softmax function (equation 12.5) -- here, it will take a list of arbitrary numbers and return a list where the elements are non-negative and sum to one\n"
      ],
      "metadata": {
        "id": "Se7DK6PGPSUk"
      }
    },
    {
      "cell_type": "code",
      "source": [
        "def softmax(items_in):\n",
        "    # Compute the elements of items_out\n",
        "    exp_items = np.exp(items_in - np.max(items_in))\n",
        "    items_out = exp_items / np.sum(exp_items)\n",
        "    return items_out\n"
      ],
      "metadata": {
        "id": "u93LIcE5PoiM"
      },
      "execution_count": null,
      "outputs": []
    },
    {
      "cell_type": "markdown",
      "source": [
        "Now compute the self attention values:"
      ],
      "metadata": {
        "id": "8aJVhbKDW7lm"
      }
    },
    {
      "cell_type": "code",
      "source": [
        "\n",
        "# Create empty list for output\n",
        "all_x_prime = []\n",
        "# For each output\n",
        "for n in range(N):\n",
        "    # Create list for dot products of query N with all keys\n",
        "    all_km_qn = []\n",
        "    # Compute the dot products\n",
        "    for key in all_keys:\n",
        "        # Compute the appropriate dot product\n",
        "        dot_product = np.dot(all_queries[n].T, key)\n",
        "        all_km_qn.append(dot_product)\n",
        "    # Compute dot product\n",
        "    attention = softmax(all_km_qn)\n",
        "    # Print result (should be positive sum to one)\n",
        "    print(\"Attentions for output \", n)\n",
        "    print(attention)\n",
        "    # Compute a weighted sum of all of the values according to the attention (equation 12.3)\n",
        "    x_prime = sum(attention[i] * all_values[i] for i in range(len(all_keys)))\n",
        "    all_x_prime.append(x_prime)\n",
        "\n",
        "# Print out true values to check you have it correct\n",
        "print(\"x_prime_0_calculated:\", all_x_prime[0].transpose())\n",
        "print(\"x_prime_0_true: [[ 0.94744244 -0.24348429 -0.91310441 -0.44522983]]\")\n",
        "print(\"x_prime_1_calculated:\", all_x_prime[1].transpose())\n",
        "print(\"x_prime_1_true: [[ 1.64201168 -0.08470004 4.02764044 2.18690791]]\")\n",
        "print(\"x_prime_2_calculated:\", all_x_prime[2].transpose())\n",
        "print(\"x_prime_2_true: [[ 1.61949281 -0.06641533 3.96863308 2.15858316]]\")"
      ],
      "metadata": {
        "id": "yimz-5nCW6vQ",
        "colab": {
          "base_uri": "https://localhost:8080/"
        },
        "outputId": "ea2f3b90-4e0c-461b-ee4b-e3c5175e8016"
      },
      "execution_count": null,
      "outputs": [
        {
          "output_type": "stream",
          "name": "stdout",
          "text": [
            "Attentions for output  0\n",
            "[[[1.24326146e-13]]\n",
            "\n",
            " [[9.98281489e-01]]\n",
            "\n",
            " [[1.71851130e-03]]]\n",
            "Attentions for output  1\n",
            "[[[2.79525306e-12]]\n",
            "\n",
            " [[5.85506360e-03]]\n",
            "\n",
            " [[9.94144936e-01]]]\n",
            "Attentions for output  2\n",
            "[[[0.00505708]]\n",
            "\n",
            " [[0.00654776]]\n",
            "\n",
            " [[0.98839516]]]\n",
            "x_prime_0_calculated: [[ 0.94744244 -0.24348429 -0.91310441 -0.44522983]]\n",
            "x_prime_0_true: [[ 0.94744244 -0.24348429 -0.91310441 -0.44522983]]\n",
            "x_prime_1_calculated: [[ 1.64201168 -0.08470004  4.02764044  2.18690791]]\n",
            "x_prime_1_true: [[ 1.64201168 -0.08470004 4.02764044 2.18690791]]\n",
            "x_prime_2_calculated: [[ 1.61949281 -0.06641533  3.96863308  2.15858316]]\n",
            "x_prime_2_true: [[ 1.61949281 -0.06641533 3.96863308 2.15858316]]\n"
          ]
        }
      ]
    },
    {
      "cell_type": "markdown",
      "source": [
        "Now let's compute the same thing, but using matrix calculations.  We'll store the $N$ inputs $\\mathbf{x}_{n}\\in\\mathbb{R}^{D}$ in the columns of a $D\\times N$ matrix, using equations 12.6 and 12.7/8.\n",
        "\n",
        "Note:  The book uses column vectors (for compatibility with the rest of the text), but in the wider literature it is more normal to store the inputs in the rows of a matrix;  in this case, the computation is the same, but all the matrices are transposed and the operations proceed in the reverse order."
      ],
      "metadata": {
        "id": "PJ2vCQ_7C38K"
      }
    },
    {
      "cell_type": "code",
      "source": [
        "# Define softmax operation that works independently on each column\n",
        "def softmax_cols(data_in):\n",
        "  # Exponentiate all of the values\n",
        "  exp_values = np.exp(data_in) ;\n",
        "  # Sum over columns\n",
        "  denom = np.sum(exp_values, axis = 0);\n",
        "  # Replicate denominator to N rows\n",
        "  denom = np.matmul(np.ones((data_in.shape[0],1)), denom[np.newaxis,:])\n",
        "  # Compute softmax\n",
        "  softmax = exp_values / denom\n",
        "  # return the answer\n",
        "  return softmax"
      ],
      "metadata": {
        "id": "obaQBdUAMXXv"
      },
      "execution_count": null,
      "outputs": []
    },
    {
      "cell_type": "code",
      "source": [
        "def self_attention(X, omega_v, omega_q, omega_k, beta_v, beta_q, beta_k):\n",
        "    # 1. Compute queries, keys, and values\n",
        "    queries = np.dot(omega_q, X) + beta_q  # Shape: (D, N)\n",
        "    keys = np.dot(omega_k, X) + beta_k     # Shape: (D, N)\n",
        "    values = np.dot(omega_v, X) + beta_v   # Shape: (D, N)\n",
        "\n",
        "    # 2. Compute dot products between queries and keys\n",
        "    # Shape: (N, N)\n",
        "    dot_products = np.dot(queries.T, keys)\n",
        "\n",
        "    # 3. Apply softmax to calculate attentions\n",
        "    # Shape: (N, N)\n",
        "    attentions = softmax_cols(dot_products.T)\n",
        "\n",
        "    # 4. Weight values by attentions\n",
        "    # Final shape: (D, N)\n",
        "    X_prime = np.dot(values, attentions)\n",
        "\n",
        "    return X_prime\n",
        "\n",
        "# Run the self attention mechanism\n",
        "X_prime = self_attention(X, omega_v, omega_q, omega_k, beta_v, beta_q, beta_k)\n"
      ],
      "metadata": {
        "id": "gb2WvQ3SiH8r"
      },
      "execution_count": null,
      "outputs": []
    },
    {
      "cell_type": "code",
      "source": [
        "# Copy data into matrix\n",
        "X = np.zeros((D, N))\n",
        "X[:,0] = np.squeeze(all_x[0])\n",
        "X[:,1] = np.squeeze(all_x[1])\n",
        "X[:,2] = np.squeeze(all_x[2])\n",
        "\n",
        "# Run the self attention mechanism\n",
        "X_prime = self_attention(X,omega_v, omega_q, omega_k, beta_v, beta_q, beta_k)\n",
        "\n",
        "# Print out the results\n",
        "print(X_prime)"
      ],
      "metadata": {
        "id": "MUOJbgJskUpl",
        "colab": {
          "base_uri": "https://localhost:8080/"
        },
        "outputId": "4bef0f9d-484c-4bc5-c05b-f62567626a6e"
      },
      "execution_count": null,
      "outputs": [
        {
          "output_type": "stream",
          "name": "stdout",
          "text": [
            "[[ 0.94744244  1.64201168  1.61949281]\n",
            " [-0.24348429 -0.08470004 -0.06641533]\n",
            " [-0.91310441  4.02764044  3.96863308]\n",
            " [-0.44522983  2.18690791  2.15858316]]\n"
          ]
        }
      ]
    },
    {
      "cell_type": "markdown",
      "source": [
        "If you did this correctly, the values should be the same as above.\n",
        "\n",
        "TODO:  \n",
        "\n",
        "Print out the attention matrix\n",
        "You will see that the values are quite extreme (one is very close to one and the others are very close to zero.  Now we'll fix this problem by using scaled dot-product attention."
      ],
      "metadata": {
        "id": "as_lRKQFpvz0"
      }
    },
    {
      "cell_type": "code",
      "source": [
        "def scaled_dot_product_self_attention(X, omega_v, omega_q, omega_k, beta_v, beta_q, beta_k):\n",
        "    # 1. Compute queries, keys, and values\n",
        "    queries = np.dot(omega_q, X) + beta_q  # Shape: (D, N)\n",
        "    keys = np.dot(omega_k, X) + beta_k     # Shape: (D, N)\n",
        "    values = np.dot(omega_v, X) + beta_v   # Shape: (D, N)\n",
        "\n",
        "    # 2. Compute dot products between queries and keys\n",
        "    # Shape: (N, N)\n",
        "    dot_products = np.dot(queries.T, keys)\n",
        "\n",
        "    # 3. Scale the dot products by sqrt(D) as in equation 12.9\n",
        "    D = queries.shape[0]  # Get dimension D\n",
        "    scaled_dot_products = dot_products / np.sqrt(D)\n",
        "\n",
        "    # 4. Apply softmax to calculate attentions\n",
        "    # Shape: (N, N)\n",
        "    attentions = softmax_cols(scaled_dot_products)\n",
        "\n",
        "    # 5. Weight values by attentions\n",
        "    # Final shape: (D, N)\n",
        "    X_prime = np.dot(values, attentions)\n",
        "\n",
        "    return X_prime"
      ],
      "metadata": {
        "id": "kLU7PUnnqvIh"
      },
      "execution_count": null,
      "outputs": []
    },
    {
      "cell_type": "code",
      "source": [
        "# Run the self attention mechanism\n",
        "X_prime = scaled_dot_product_self_attention(X,omega_v, omega_q, omega_k, beta_v, beta_q, beta_k)\n",
        "\n",
        "# Print out the results\n",
        "print(X_prime)"
      ],
      "metadata": {
        "id": "n18e3XNzmVgL",
        "colab": {
          "base_uri": "https://localhost:8080/"
        },
        "outputId": "982a5509-9043-44b6-9a1f-7d6465acf699"
      },
      "execution_count": null,
      "outputs": [
        {
          "output_type": "stream",
          "name": "stdout",
          "text": [
            "[[ 1.64608331  0.66149223  1.21854105]\n",
            " [-0.08376846  0.36015254 -0.17896151]\n",
            " [ 4.05660686 -0.05852563  1.02632615]\n",
            " [ 2.20233961  0.09885586  0.58832268]]\n"
          ]
        }
      ]
    },
    {
      "cell_type": "markdown",
      "source": [
        "TODO -- Investigate whether the self-attention mechanism is covariant with respect to permutation.\n",
        "If it is, when we permute the columns of the input matrix $\\mathbf{X}$, the columns of the output matrix $\\mathbf{X}'$ will also be permuted.\n"
      ],
      "metadata": {
        "id": "QDEkIrcgrql-"
      }
    },
    {
      "cell_type": "markdown",
      "source": [
        "The spreadsheet and Jupyter Notebook both explain self-attention, a key mechanism in machine learning, but differ in presentation. Both cover core concepts like queries, keys, values, and attention weights, and provide step-by-step calculations to clarify the process.\n",
        "\n",
        "The notebook is interactive, allowing users to modify parameters, run code, and visualize results, making it ideal for hands-on learners. It also includes detailed explanations and dynamic plots. In contrast, the spreadsheet is static, formula-driven, and focuses on a fixed example with less theoretical depth, suited for users who prefer structured, step-by-step calculations without coding.\n",
        "\n",
        "In summary, the notebook offers a flexible, interactive learning experience, while the spreadsheet provides a more structured, formulaic approach, catering to different learning preferences."
      ],
      "metadata": {
        "id": "dDRYgl4gvXR8"
      }
    }
  ]
}